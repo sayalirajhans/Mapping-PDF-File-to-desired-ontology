{
 "cells": [
  {
   "cell_type": "markdown",
   "id": "a47faa88",
   "metadata": {},
   "source": [
    "# Text extraction from the PDF file"
   ]
  },
  {
   "cell_type": "code",
   "execution_count": 1,
   "id": "883e73e2",
   "metadata": {},
   "outputs": [],
   "source": [
    "import PyPDF2\n",
    "a = PyPDF2.PdfFileReader('wind_energy.pdf')\n",
    "#print(a.documentInfo)\n",
    "str =\"\"\n",
    "for i in range(1,11):\n",
    "    str += a.getPage(2).extractText()\n",
    "\n",
    "with open(\"text.txt\",\"w\",encoding ='utf-8') as f:\n",
    "    f.write(str)"
   ]
  },
  {
   "cell_type": "markdown",
   "id": "716eb4ec",
   "metadata": {},
   "source": [
    "# Reading, tokenizing, filtering the text file"
   ]
  },
  {
   "cell_type": "code",
   "execution_count": 2,
   "id": "9fa5bc36",
   "metadata": {},
   "outputs": [],
   "source": [
    "pip install -U nltk"
   ]
  },
  {
   "cell_type": "code",
   "execution_count": 3,
   "id": "829238e0",
   "metadata": {},
   "outputs": [],
   "source": [
    "import nltk\n",
    "import re"
   ]
  },
  {
   "cell_type": "code",
   "execution_count": 4,
   "id": "c73ea946",
   "metadata": {},
   "outputs": [],
   "source": [
    "with open('D:/Thesis/Ontology file/Wind energy/text.txt', 'r') as file:\n",
    "    text = file.read()\n"
   ]
  },
  {
   "cell_type": "code",
   "execution_count": 5,
   "id": "84955e8e",
   "metadata": {},
   "outputs": [],
   "source": [
    "sentences = nltk.sent_tokenize(text)\n"
   ]
  },
  {
   "cell_type": "code",
   "execution_count": 6,
   "id": "ae4ea2ea",
   "metadata": {},
   "outputs": [],
   "source": [
    "tokens = [nltk.word_tokenize(sent) for sent in sentences]\n"
   ]
  },
  {
   "cell_type": "code",
   "execution_count": 7,
   "id": "5c006345",
   "metadata": {},
   "outputs": [],
   "source": [
    "tagged_tokens = [nltk.pos_tag(tokens) for tokens in tokens]\n"
   ]
  },
  {
   "cell_type": "code",
   "execution_count": 8,
   "id": "91ddbc54",
   "metadata": {},
   "outputs": [],
   "source": [
    "filtered_sentences = []\n",
    "for sentence in tagged_tokens:\n",
    "    nouns = 0\n",
    "    verb = 0\n",
    "    for word in sentence:\n",
    "        if word[1] == 'NN':\n",
    "            nouns += 1\n",
    "        elif word[1] == 'VB':\n",
    "            verb += 1\n",
    "    if nouns >= 2 and verb >= 1:\n",
    "        filtered_sentences.append(sentence)"
   ]
  },
  {
   "cell_type": "code",
   "execution_count": 9,
   "id": "4b9f3cd1",
   "metadata": {},
   "outputs": [],
   "source": [
    "import nltk\n",
    "#nltk.download()\n",
    "from nltk.tokenize import word_tokenize"
   ]
  },
  {
   "cell_type": "code",
   "execution_count": 10,
   "id": "9bc4f706",
   "metadata": {},
   "outputs": [],
   "source": [
    "def filter_valid_sentences(text_file):\n",
    "    valid_sentences = []\n",
    "with open(\"D:/Thesis/Ontology file/Wind energy/text.txt\", \"r\") as f:\n",
    "    text = f.read()"
   ]
  },
  {
   "cell_type": "code",
   "execution_count": 11,
   "id": "5ee5ecf1",
   "metadata": {},
   "outputs": [],
   "source": [
    "sentences = nltk.sent_tokenize(text)"
   ]
  },
  {
   "cell_type": "code",
   "execution_count": 12,
   "id": "b7c042b4",
   "metadata": {},
   "outputs": [],
   "source": [
    "def filter_valid_sentences(text_file):\n",
    "    valid_sentences = []\n",
    "\n",
    "    for sentence in sentences:\n",
    "        words = word_tokenize(sentence)\n",
    "        nouns = [word for word, pos in nltk.pos_tag(words) if pos[:2] == 'NN']\n",
    "        verbs = [word for word, pos in nltk.pos_tag(words) if pos[:2] == 'VB']\n",
    "        if len(nouns) >= 2 and len(verbs) >= 1:\n",
    "            valid_sentences.append(sentence)\n",
    "    return(valid_sentences)\n",
    "valid_sentences = filter_valid_sentences(\"D:/Thesis/Ontology file/Wind energy/text.txt\")\n",
    "print(valid_sentences)"
   ]
  },
  {
   "cell_type": "code",
   "execution_count": 13,
   "id": "ec4a9c68",
   "metadata": {},
   "outputs": [],
   "source": [
    "with open('D:/Thesis/Ontology file/Wind energy/valid_sentences.txt', 'w') as f:\n",
    "    for sent in valid_sentences:-\n",
    "        f.write(sent + '\\n')"
   ]
  },
  {
   "cell_type": "markdown",
   "id": "1fe8a439",
   "metadata": {},
   "source": [
    "### Convert .txt to .csv"
   ]
  },
  {
   "cell_type": "code",
   "execution_count": 14,
   "id": "00383aaf",
   "metadata": {},
   "outputs": [],
   "source": [
    "with open('D:/Thesis/Ontology file/Wind energy/valid_sentences.txt', 'r') as f:\n",
    "    rows = f.readlines()\n"
   ]
  },
  {
   "cell_type": "code",
   "execution_count": 15,
   "id": "defe7d7a",
   "metadata": {},
   "outputs": [],
   "source": [
    "data = [row.split(',') for row in rows]\n"
   ]
  },
  {
   "cell_type": "code",
   "execution_count": 16,
   "id": "def5689a",
   "metadata": {},
   "outputs": [],
   "source": [
    "import csv\n",
    "\n",
    "with open('D:/Thesis/Ontology file/Wind energy/Wind-energy file.csv', 'w', newline='') as f:\n",
    "    writer = csv.writer(f)\n",
    "    writer.writerows(data)\n"
   ]
  },
  {
   "cell_type": "code",
   "execution_count": null,
   "id": "9359c0db",
   "metadata": {},
   "outputs": [],
   "source": []
  }
 ],
 "metadata": {
  "kernelspec": {
   "display_name": "Python 3 (ipykernel)",
   "language": "python",
   "name": "python3"
  },
  "language_info": {
   "codemirror_mode": {
    "name": "ipython",
    "version": 3
   },
   "file_extension": ".py",
   "mimetype": "text/x-python",
   "name": "python",
   "nbconvert_exporter": "python",
   "pygments_lexer": "ipython3",
   "version": "3.9.15"
  }
 },
 "nbformat": 4,
 "nbformat_minor": 5
}
